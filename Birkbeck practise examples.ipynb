{
 "cells": [
  {
   "cell_type": "markdown",
   "metadata": {},
   "source": [
    "This notebook is for the purpose of practising the Birkbeck example sheet, sent over before the course began."
   ]
  },
  {
   "cell_type": "code",
   "execution_count": 1,
   "metadata": {},
   "outputs": [
    {
     "name": "stdout",
     "output_type": "stream",
     "text": [
      "\n"
     ]
    }
   ],
   "source": [
    "print(\"\")"
   ]
  },
  {
   "cell_type": "code",
   "execution_count": 2,
   "metadata": {},
   "outputs": [
    {
     "name": "stdout",
     "output_type": "stream",
     "text": [
      "Hickory, Dickory, Dock\n"
     ]
    }
   ],
   "source": [
    "print(\"Hickory, Dickory, Dock\")"
   ]
  },
  {
   "cell_type": "code",
   "execution_count": 3,
   "metadata": {},
   "outputs": [
    {
     "name": "stdout",
     "output_type": "stream",
     "text": [
      "hello\n",
      "you\n",
      "you hello\n"
     ]
    }
   ],
   "source": [
    "def reverse_order(x,y):\n",
    "    print(y,x)\n",
    "    \n",
    "first_input = input()\n",
    "second_input = input()\n",
    "\n",
    "reverse_order(first_input, second_input)"
   ]
  },
  {
   "cell_type": "code",
   "execution_count": 4,
   "metadata": {},
   "outputs": [],
   "source": [
    "s = 'artificial reality'"
   ]
  },
  {
   "cell_type": "code",
   "execution_count": 6,
   "metadata": {},
   "outputs": [
    {
     "data": {
      "text/plain": [
       "'art'"
      ]
     },
     "execution_count": 6,
     "metadata": {},
     "output_type": "execute_result"
    }
   ],
   "source": [
    "s[11:15]\n",
    "s[0:3]"
   ]
  },
  {
   "cell_type": "code",
   "execution_count": 13,
   "metadata": {},
   "outputs": [
    {
     "name": "stdout",
     "output_type": "stream",
     "text": [
      "enter husbands info (must be int):\n",
      "50000\n",
      "enter wife's info(must be int):\n",
      "10000\n",
      "You need to pay tax\n"
     ]
    }
   ],
   "source": [
    "# take two integers\n",
    "print(\"enter husbands info (must be int):\")\n",
    "husbands_info = input()\n",
    "print(\"enter wife's info(must be int):\")\n",
    "wifes_info=input()\n",
    "\n",
    "\n",
    "if int(husbands_info) + int(wifes_info) < 40000:\n",
    "    print(\"You do not need to pay tax\")\n",
    "else:\n",
    "    print(\"You need to pay tax\")"
   ]
  },
  {
   "cell_type": "code",
   "execution_count": 20,
   "metadata": {},
   "outputs": [
    {
     "name": "stdout",
     "output_type": "stream",
     "text": [
      "100\n",
      "0\n",
      "Cannot divide by zero.\n"
     ]
    }
   ],
   "source": [
    "def divisible_by(x,y):\n",
    "    if y ==0:\n",
    "        print(\"Cannot divide by zero.\")\n",
    "        return\n",
    "    if x % y == 0:\n",
    "        print(\"Yes\")\n",
    "    else:\n",
    "        print(\"No\")\n",
    "\n",
    "x= int(input())\n",
    "y=int(input())\n",
    "\n",
    "divisible_by(x,y)"
   ]
  },
  {
   "cell_type": "code",
   "execution_count": 35,
   "metadata": {},
   "outputs": [],
   "source": [
    "def return_greeting(t):\n",
    "    if len(t) in [3,4]:\n",
    "        if len(t) == 3:\n",
    "            hour=t[0]\n",
    "            minutes=t[1:]\n",
    "        else:\n",
    "            hour=t[:2]\n",
    "            minutes=t[2:]\n",
    "    if int(hour) < 12 and int(hour) > 4:\n",
    "        print(\"Good morning.\")\n",
    "        return\n",
    "    if int(hour) < 17:\n",
    "        print(\"Good afternoon\")\n",
    "        return\n",
    "    else:\n",
    "        print(\"Good evening\")"
   ]
  },
  {
   "cell_type": "code",
   "execution_count": 38,
   "metadata": {},
   "outputs": [
    {
     "name": "stdout",
     "output_type": "stream",
     "text": [
      "Good evening\n"
     ]
    }
   ],
   "source": [
    "return_greeting('2315')"
   ]
  },
  {
   "cell_type": "code",
   "execution_count": 23,
   "metadata": {},
   "outputs": [
    {
     "data": {
      "text/plain": [
       "4"
      ]
     },
     "execution_count": 23,
     "metadata": {},
     "output_type": "execute_result"
    }
   ],
   "source": [
    "len('2320')"
   ]
  },
  {
   "cell_type": "code",
   "execution_count": 39,
   "metadata": {},
   "outputs": [],
   "source": [
    "num_series = [2,12,3434,123,3,3,4,3,3,3,2,1]"
   ]
  },
  {
   "cell_type": "code",
   "execution_count": 43,
   "metadata": {},
   "outputs": [
    {
     "data": {
      "text/plain": [
       "[(2, 12),\n",
       " (12, 3434),\n",
       " (3434, 123),\n",
       " (123, 3),\n",
       " (3, 3),\n",
       " (3, 4),\n",
       " (4, 3),\n",
       " (3, 3),\n",
       " (3, 3),\n",
       " (3, 2),\n",
       " (2, 1)]"
      ]
     },
     "execution_count": 43,
     "metadata": {},
     "output_type": "execute_result"
    }
   ],
   "source": [
    "[x for x in zip(num_series, num_series[1:])]"
   ]
  },
  {
   "cell_type": "code",
   "execution_count": 44,
   "metadata": {},
   "outputs": [
    {
     "name": "stdout",
     "output_type": "stream",
     "text": [
      "different\n",
      "different\n",
      "different\n",
      "different\n",
      "Same\n",
      "different\n",
      "different\n",
      "Same\n",
      "Same\n",
      "different\n",
      "different\n"
     ]
    }
   ],
   "source": [
    "\n",
    "for x,y in zip(num_series, num_series[1:]):\n",
    "    if x==y:\n",
    "        print(\"Same\")\n",
    "    else:\n",
    "        print(\"different\")"
   ]
  },
  {
   "cell_type": "code",
   "execution_count": null,
   "metadata": {},
   "outputs": [],
   "source": []
  }
 ],
 "metadata": {
  "kernelspec": {
   "display_name": "Python 3",
   "language": "python",
   "name": "python3"
  },
  "language_info": {
   "codemirror_mode": {
    "name": "ipython",
    "version": 3
   },
   "file_extension": ".py",
   "mimetype": "text/x-python",
   "name": "python",
   "nbconvert_exporter": "python",
   "pygments_lexer": "ipython3",
   "version": "3.6.6"
  }
 },
 "nbformat": 4,
 "nbformat_minor": 2
}
